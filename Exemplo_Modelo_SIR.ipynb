{
  "nbformat": 4,
  "nbformat_minor": 0,
  "metadata": {
    "colab": {
      "provenance": [],
      "authorship_tag": "ABX9TyN8VwF5av6HvwRmgq5pUCRb",
      "include_colab_link": true
    },
    "kernelspec": {
      "name": "python3",
      "display_name": "Python 3"
    },
    "language_info": {
      "name": "python"
    }
  },
  "cells": [
    {
      "cell_type": "markdown",
      "metadata": {
        "id": "view-in-github",
        "colab_type": "text"
      },
      "source": [
        "<a href=\"https://colab.research.google.com/github/Lorenzopiloto/Statistics-DS/blob/main/Exemplo_Modelo_SIR.ipynb\" target=\"_parent\"><img src=\"https://colab.research.google.com/assets/colab-badge.svg\" alt=\"Open In Colab\"/></a>"
      ]
    },
    {
      "cell_type": "markdown",
      "source": [
        "# Exemplo Modelo SIR (Suspected - Infected - Recovered)"
      ],
      "metadata": {
        "id": "TkPCKZVDqUzR"
      }
    },
    {
      "cell_type": "markdown",
      "source": [
        "# Carregar Módulos"
      ],
      "metadata": {
        "id": "sOm8TsRhqcno"
      }
    },
    {
      "cell_type": "code",
      "source": [
        "import numpy as np\n",
        "from scipy.integrate import odeint # pacote voltado a equações diferenciais\n",
        "import matplotlib.pyplot as plt"
      ],
      "metadata": {
        "id": "jqmcs5MJqUPh"
      },
      "execution_count": null,
      "outputs": []
    },
    {
      "cell_type": "markdown",
      "source": [
        "## Equação SIR\n",
        "\n",
        "- Suscetiveis: $\\frac{dS}{dt} = \\frac{-\\beta \\cdot S_t \\cdot I_t}{N}$\n",
        "- Infectados: $\\frac{dI}{dt} = \\frac{\\beta \\cdot S_t \\cdot I_t}{N} - \\gamma I_t$\n",
        "- Recuperados: $\\gamma I_t$"
      ],
      "metadata": {
        "id": "fADVjX4pq248"
      }
    },
    {
      "cell_type": "code",
      "source": [
        "def sir_model(par_iniciais, t, N, beta, gamma):\n",
        "  S, I, R = par_iniciais\n",
        "  dSdt = -(beta * S * I) / N\n",
        "  dIdt = (beta * S * I) / N - gamma * I\n",
        "  dRdt = gamma * I\n",
        "\n",
        "  return dSdt, dIdt, dRdt"
      ],
      "metadata": {
        "id": "RCc8jf2RqUR5"
      },
      "execution_count": 1,
      "outputs": []
    },
    {
      "cell_type": "markdown",
      "source": [
        "# parametros Iniciais\n",
        "\n",
        "## Devemos utilizar alguns parâmetros como premissa:\n",
        "\n",
        "- População\n",
        "- Número inicial de infectados\n",
        "- Número de recuperados\n",
        "- Taxa de Contaminação ($\\beta$ - beta, em 1/dias)\n",
        "- Taxa média de recuperação ($\\gamma$ - gama, em 1/dias)"
      ],
      "metadata": {
        "id": "oUyhqGqBrAyk"
      }
    },
    {
      "cell_type": "code",
      "source": [
        "N = 1000 # população\n",
        "I0 = 1 # infectados dia 0\n",
        "R0 = 0 # recuperados dia 0\n",
        "S0 = N - I0 - R0 # suscetiveis dia 0\n",
        "beta = 0.2 # taxa de contaminação\n",
        "gamma = 1/10 # taxa de recuperação"
      ],
      "metadata": {
        "id": "t_YFzbnNqUYB"
      },
      "execution_count": 2,
      "outputs": []
    },
    {
      "cell_type": "markdown",
      "source": [
        "# Simulação"
      ],
      "metadata": {
        "id": "tNED-DcGr-ou"
      }
    },
    {
      "cell_type": "code",
      "source": [
        "par_iniciais0 = S0, I0, R0\n",
        "par_iniciais0"
      ],
      "metadata": {
        "colab": {
          "base_uri": "https://localhost:8080/"
        },
        "id": "bnR3LMahqUdJ",
        "outputId": "b15ca010-bc98-4d9b-ec49-d906bdb96a4e"
      },
      "execution_count": 5,
      "outputs": [
        {
          "output_type": "execute_result",
          "data": {
            "text/plain": [
              "(999, 1, 0)"
            ]
          },
          "metadata": {},
          "execution_count": 5
        }
      ]
    }
  ]
}