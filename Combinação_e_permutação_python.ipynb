{
  "nbformat": 4,
  "nbformat_minor": 0,
  "metadata": {
    "colab": {
      "provenance": [],
      "authorship_tag": "ABX9TyOo/A4ERz5RTX05VsmepQAW",
      "include_colab_link": true
    },
    "kernelspec": {
      "name": "python3",
      "display_name": "Python 3"
    },
    "language_info": {
      "name": "python"
    }
  },
  "cells": [
    {
      "cell_type": "markdown",
      "metadata": {
        "id": "view-in-github",
        "colab_type": "text"
      },
      "source": [
        "<a href=\"https://colab.research.google.com/github/Lorenzopiloto/Statistics-DS/blob/main/Combina%C3%A7%C3%A3o_e_permuta%C3%A7%C3%A3o_python.ipynb\" target=\"_parent\"><img src=\"https://colab.research.google.com/assets/colab-badge.svg\" alt=\"Open In Colab\"/></a>"
      ]
    },
    {
      "cell_type": "markdown",
      "source": [
        "# Combinação e Permutação no Python"
      ],
      "metadata": {
        "id": "uvxfd2KlVcf3"
      }
    },
    {
      "cell_type": "code",
      "source": [
        "! which python3"
      ],
      "metadata": {
        "colab": {
          "base_uri": "https://localhost:8080/"
        },
        "id": "_SDrehY_Vbz3",
        "outputId": "2c106b31-e35e-4c84-c709-191e0361bd49"
      },
      "execution_count": 1,
      "outputs": [
        {
          "output_type": "stream",
          "name": "stdout",
          "text": [
            "/usr/bin/python3\n"
          ]
        }
      ]
    },
    {
      "cell_type": "code",
      "source": [
        "! /usr/bin/python3 --version"
      ],
      "metadata": {
        "colab": {
          "base_uri": "https://localhost:8080/"
        },
        "id": "8gPydZthVb2n",
        "outputId": "6c99ed0a-c84c-4e01-968c-19e252541485"
      },
      "execution_count": 2,
      "outputs": [
        {
          "output_type": "stream",
          "name": "stdout",
          "text": [
            "Python 3.10.12\n"
          ]
        }
      ]
    },
    {
      "cell_type": "code",
      "source": [
        "import sys\n",
        "sys.version"
      ],
      "metadata": {
        "colab": {
          "base_uri": "https://localhost:8080/",
          "height": 35
        },
        "id": "m3660Vs_Vb43",
        "outputId": "c1d0689b-4ebd-425a-f402-cd6cba11bb97"
      },
      "execution_count": 3,
      "outputs": [
        {
          "output_type": "execute_result",
          "data": {
            "text/plain": [
              "'3.10.12 (main, Sep 11 2024, 15:47:36) [GCC 11.4.0]'"
            ],
            "application/vnd.google.colaboratory.intrinsic+json": {
              "type": "string"
            }
          },
          "metadata": {},
          "execution_count": 3
        }
      ]
    },
    {
      "cell_type": "markdown",
      "source": [
        "# Módulos"
      ],
      "metadata": {
        "id": "DsgI7S52VuIT"
      }
    },
    {
      "cell_type": "code",
      "source": [
        "from itertools import product, permutations, combinations, combinations_with_replacement\n",
        "from math import factorial"
      ],
      "metadata": {
        "id": "2biChlxcVb7P"
      },
      "execution_count": 4,
      "outputs": []
    },
    {
      "cell_type": "markdown",
      "source": [
        "# Exemplo 1\n",
        "\n",
        "- Sem repetição"
      ],
      "metadata": {
        "id": "b-O5W9ZZV4zp"
      }
    },
    {
      "cell_type": "code",
      "source": [
        "cores = ['preta', 'vermelha', 'amarela']"
      ],
      "metadata": {
        "id": "U3WgjZR4Vb9n"
      },
      "execution_count": 5,
      "outputs": []
    },
    {
      "cell_type": "code",
      "source": [
        "permutacoes = permutations(cores, 3)"
      ],
      "metadata": {
        "id": "kTEVgIk8Vb__"
      },
      "execution_count": 6,
      "outputs": []
    },
    {
      "cell_type": "code",
      "source": [
        "for i in list(permutacoes):\n",
        "  print(i)"
      ],
      "metadata": {
        "colab": {
          "base_uri": "https://localhost:8080/"
        },
        "id": "cdYrLg65VcDf",
        "outputId": "aede1459-f4cb-4e68-cd46-f52d7a033eeb"
      },
      "execution_count": 7,
      "outputs": [
        {
          "output_type": "stream",
          "name": "stdout",
          "text": [
            "('preta', 'vermelha', 'amarela')\n",
            "('preta', 'amarela', 'vermelha')\n",
            "('vermelha', 'preta', 'amarela')\n",
            "('vermelha', 'amarela', 'preta')\n",
            "('amarela', 'preta', 'vermelha')\n",
            "('amarela', 'vermelha', 'preta')\n"
          ]
        }
      ]
    },
    {
      "cell_type": "markdown",
      "source": [
        "- Com repetição"
      ],
      "metadata": {
        "id": "x3GB2bI7WESp"
      }
    },
    {
      "cell_type": "code",
      "source": [
        "cores = ['preta', 'vermelha', 'amarela']"
      ],
      "metadata": {
        "id": "JJpbon6rVzwh"
      },
      "execution_count": 8,
      "outputs": []
    },
    {
      "cell_type": "code",
      "source": [
        "perm_repeticao = product(cores, repeat=3)"
      ],
      "metadata": {
        "id": "off3a9txVzzD"
      },
      "execution_count": 9,
      "outputs": []
    },
    {
      "cell_type": "code",
      "source": [
        "for i in list(perm_repeticao):\n",
        "  print(i)"
      ],
      "metadata": {
        "colab": {
          "base_uri": "https://localhost:8080/"
        },
        "id": "GT-5c9cAVz1g",
        "outputId": "da248bcf-3665-4401-a06b-dc84be6c6082"
      },
      "execution_count": 10,
      "outputs": [
        {
          "output_type": "stream",
          "name": "stdout",
          "text": [
            "('preta', 'preta', 'preta')\n",
            "('preta', 'preta', 'vermelha')\n",
            "('preta', 'preta', 'amarela')\n",
            "('preta', 'vermelha', 'preta')\n",
            "('preta', 'vermelha', 'vermelha')\n",
            "('preta', 'vermelha', 'amarela')\n",
            "('preta', 'amarela', 'preta')\n",
            "('preta', 'amarela', 'vermelha')\n",
            "('preta', 'amarela', 'amarela')\n",
            "('vermelha', 'preta', 'preta')\n",
            "('vermelha', 'preta', 'vermelha')\n",
            "('vermelha', 'preta', 'amarela')\n",
            "('vermelha', 'vermelha', 'preta')\n",
            "('vermelha', 'vermelha', 'vermelha')\n",
            "('vermelha', 'vermelha', 'amarela')\n",
            "('vermelha', 'amarela', 'preta')\n",
            "('vermelha', 'amarela', 'vermelha')\n",
            "('vermelha', 'amarela', 'amarela')\n",
            "('amarela', 'preta', 'preta')\n",
            "('amarela', 'preta', 'vermelha')\n",
            "('amarela', 'preta', 'amarela')\n",
            "('amarela', 'vermelha', 'preta')\n",
            "('amarela', 'vermelha', 'vermelha')\n",
            "('amarela', 'vermelha', 'amarela')\n",
            "('amarela', 'amarela', 'preta')\n",
            "('amarela', 'amarela', 'vermelha')\n",
            "('amarela', 'amarela', 'amarela')\n"
          ]
        }
      ]
    },
    {
      "cell_type": "markdown",
      "source": [
        "- Fórmula para obter a quantidade de permutações"
      ],
      "metadata": {
        "id": "2v5dQjS7WNyR"
      }
    },
    {
      "cell_type": "code",
      "source": [
        "def formula_permutacao(n, r, repeticao = False):\n",
        "  if repeticao is True:\n",
        "    return n**r\n",
        "  else:\n",
        "    return factorial(n) / factorial(n-r)"
      ],
      "metadata": {
        "id": "4EdY0Pf7Vz4H"
      },
      "execution_count": 11,
      "outputs": []
    },
    {
      "cell_type": "code",
      "source": [
        "formula_permutacao(3, 3)"
      ],
      "metadata": {
        "colab": {
          "base_uri": "https://localhost:8080/"
        },
        "id": "MByZBkB6Vz9J",
        "outputId": "2946cb3c-24af-4faa-9a3b-8fac995000bb"
      },
      "execution_count": 12,
      "outputs": [
        {
          "output_type": "execute_result",
          "data": {
            "text/plain": [
              "6.0"
            ]
          },
          "metadata": {},
          "execution_count": 12
        }
      ]
    },
    {
      "cell_type": "code",
      "source": [
        "formula_permutacao(3, 3, repeticao=True)"
      ],
      "metadata": {
        "colab": {
          "base_uri": "https://localhost:8080/"
        },
        "id": "j4kLRHQxWOep",
        "outputId": "4e5661fa-8950-4375-e386-01a2552ed725"
      },
      "execution_count": 13,
      "outputs": [
        {
          "output_type": "execute_result",
          "data": {
            "text/plain": [
              "27"
            ]
          },
          "metadata": {},
          "execution_count": 13
        }
      ]
    },
    {
      "cell_type": "markdown",
      "source": [
        "- Combinação sem repetição"
      ],
      "metadata": {
        "id": "E5h7N_ieWbyB"
      }
    },
    {
      "cell_type": "code",
      "source": [
        "cores = ['verde', 'vermelha', 'roxa', 'azul']"
      ],
      "metadata": {
        "id": "nbbvmtDFWOhY"
      },
      "execution_count": 14,
      "outputs": []
    },
    {
      "cell_type": "code",
      "source": [
        "combinacao = combinations(cores, 2)"
      ],
      "metadata": {
        "id": "FxRGmtw2WOjp"
      },
      "execution_count": 15,
      "outputs": []
    },
    {
      "cell_type": "code",
      "source": [
        "for i in list(combinacao):\n",
        "  print(i)"
      ],
      "metadata": {
        "colab": {
          "base_uri": "https://localhost:8080/"
        },
        "id": "2mRW67rGWOmg",
        "outputId": "d7b796f9-3f9e-45e0-baec-afbdfb8cdbc9"
      },
      "execution_count": 16,
      "outputs": [
        {
          "output_type": "stream",
          "name": "stdout",
          "text": [
            "('verde', 'vermelha')\n",
            "('verde', 'roxa')\n",
            "('verde', 'azul')\n",
            "('vermelha', 'roxa')\n",
            "('vermelha', 'azul')\n",
            "('roxa', 'azul')\n"
          ]
        }
      ]
    },
    {
      "cell_type": "markdown",
      "source": [
        "- Combinação com repetição"
      ],
      "metadata": {
        "id": "ktHbXObjWmcC"
      }
    },
    {
      "cell_type": "code",
      "source": [
        "cores = ['verde', 'vermelha', 'roxa', 'azul']"
      ],
      "metadata": {
        "id": "iy_C-kkQWOpT"
      },
      "execution_count": 17,
      "outputs": []
    },
    {
      "cell_type": "code",
      "source": [
        "combinacao_com_rep = combinations_with_replacement(cores, 2)"
      ],
      "metadata": {
        "id": "jADdLdU_WOrw"
      },
      "execution_count": 18,
      "outputs": []
    },
    {
      "cell_type": "code",
      "source": [
        "for i in list(combinacao_com_rep):\n",
        "  print(i)"
      ],
      "metadata": {
        "colab": {
          "base_uri": "https://localhost:8080/"
        },
        "id": "gpz5IPhLWOuZ",
        "outputId": "38bda183-cb0b-46d0-d355-74d298a5674f"
      },
      "execution_count": 19,
      "outputs": [
        {
          "output_type": "stream",
          "name": "stdout",
          "text": [
            "('verde', 'verde')\n",
            "('verde', 'vermelha')\n",
            "('verde', 'roxa')\n",
            "('verde', 'azul')\n",
            "('vermelha', 'vermelha')\n",
            "('vermelha', 'roxa')\n",
            "('vermelha', 'azul')\n",
            "('roxa', 'roxa')\n",
            "('roxa', 'azul')\n",
            "('azul', 'azul')\n"
          ]
        }
      ]
    },
    {
      "cell_type": "code",
      "source": [
        "def formula_combinacao(n, k, repeticao = False):\n",
        "  if repeticao is False:\n",
        "    return factorial(n) / (factorial(k) * factorial(n-k))\n",
        "  else:\n",
        "    return factorial(n+k-1) / (factorial(k) * factorial(n-1))"
      ],
      "metadata": {
        "id": "LgC7vgX6Wqcq"
      },
      "execution_count": 20,
      "outputs": []
    },
    {
      "cell_type": "code",
      "source": [
        "formula_combinacao(4, 2)"
      ],
      "metadata": {
        "colab": {
          "base_uri": "https://localhost:8080/"
        },
        "id": "raPB4SutWqfa",
        "outputId": "7854c137-4bdc-414c-9ca1-6bf17fea0c4a"
      },
      "execution_count": 21,
      "outputs": [
        {
          "output_type": "execute_result",
          "data": {
            "text/plain": [
              "6.0"
            ]
          },
          "metadata": {},
          "execution_count": 21
        }
      ]
    },
    {
      "cell_type": "code",
      "source": [
        "formula_combinacao(4, 2, repeticao=True)"
      ],
      "metadata": {
        "colab": {
          "base_uri": "https://localhost:8080/"
        },
        "id": "obSobeLYWqiA",
        "outputId": "dd8b806c-e7d5-4a26-ca3d-b7481da5af29"
      },
      "execution_count": 22,
      "outputs": [
        {
          "output_type": "execute_result",
          "data": {
            "text/plain": [
              "10.0"
            ]
          },
          "metadata": {},
          "execution_count": 22
        }
      ]
    },
    {
      "cell_type": "code",
      "source": [
        "formula_permutacao(n = 10, # 10 maneiras de arranjar\n",
        "                   r = 6, # escolher 6 numeros\n",
        "                   repeticao = False # nao pode repetir o numero\n",
        "                   )"
      ],
      "metadata": {
        "colab": {
          "base_uri": "https://localhost:8080/"
        },
        "id": "4FVX-oCxWqkg",
        "outputId": "faf79b90-f5a9-4e28-983a-07ade7770dfe"
      },
      "execution_count": 23,
      "outputs": [
        {
          "output_type": "execute_result",
          "data": {
            "text/plain": [
              "151200.0"
            ]
          },
          "metadata": {},
          "execution_count": 23
        }
      ]
    },
    {
      "cell_type": "code",
      "source": [
        "formula_combinacao(n = 60, # 60 maneiras de arranjar\n",
        "                   k = 6, # escolher 6 numeros\n",
        "                   repeticao = False # nao pode repetir o numero\n",
        "                   )"
      ],
      "metadata": {
        "colab": {
          "base_uri": "https://localhost:8080/"
        },
        "id": "9hImn8xVWqnR",
        "outputId": "83c6656f-cae1-4be1-ca99-12fd55836337"
      },
      "execution_count": 24,
      "outputs": [
        {
          "output_type": "execute_result",
          "data": {
            "text/plain": [
              "50063860.0"
            ]
          },
          "metadata": {},
          "execution_count": 24
        }
      ]
    },
    {
      "cell_type": "code",
      "source": [
        "formula_combinacao(n = 8,\n",
        "                   k = 4,\n",
        "                   repeticao = False\n",
        "                   )"
      ],
      "metadata": {
        "colab": {
          "base_uri": "https://localhost:8080/"
        },
        "id": "DpLWWOn-W45x",
        "outputId": "fc299a82-1b7c-4bfc-b205-2bdeb7e513eb"
      },
      "execution_count": 25,
      "outputs": [
        {
          "output_type": "execute_result",
          "data": {
            "text/plain": [
              "70.0"
            ]
          },
          "metadata": {},
          "execution_count": 25
        }
      ]
    }
  ]
}